{
 "cells": [
  {
   "cell_type": "markdown",
   "id": "340e8b41",
   "metadata": {},
   "source": [
    "## Васильев Семён. 520 группа"
   ]
  },
  {
   "cell_type": "code",
   "execution_count": 1,
   "id": "f2a8c962",
   "metadata": {},
   "outputs": [],
   "source": [
    "import pandas as pd\n",
    "import numpy as np\n",
    "import scipy.stats as stats\n",
    "import statsmodels.api as sm\n",
    "import statsmodels.tsa.stattools as st\n",
    "\n",
    "import matplotlib.pyplot as plt\n",
    "%matplotlib inline"
   ]
  },
  {
   "cell_type": "code",
   "execution_count": 2,
   "id": "ebf99a9e",
   "metadata": {},
   "outputs": [
    {
     "name": "stdout",
     "output_type": "stream",
     "text": [
      "comex.GC_200216_220216.csv    LME.Lead_200216_220216.csv\r\n",
      "comex.SI_200216_220216.csv    NYMEX.PA_200216_220216.csv\r\n",
      "ICE.BRN_200216_220216.csv     NYMEX.PL_200216_220216.csv\r\n",
      "LME.Copper_200216_220216.csv  SANDP-500_200216_220216.csv\r\n"
     ]
    }
   ],
   "source": [
    "!ls data"
   ]
  },
  {
   "cell_type": "code",
   "execution_count": 3,
   "id": "f1c383d5",
   "metadata": {},
   "outputs": [],
   "source": [
    "def read_data(f_name, name):\n",
    "    df = pd.read_csv(f_name, sep=',')\n",
    "    df = df[['<DATE>', '<CLOSE>']]\n",
    "    df.columns = ['date', name]\n",
    "    df['date'] = pd.to_datetime(df['date'])\n",
    "    \n",
    "    return df"
   ]
  },
  {
   "cell_type": "code",
   "execution_count": 4,
   "id": "6712635d",
   "metadata": {},
   "outputs": [],
   "source": [
    "def autocorr(ts, lags=15):\n",
    "    fig, ax = plt.subplots(figsize=(14, 7))\n",
    "    sm.graphics.tsa.plot_acf(ts, lags=lags, ax=ax, adjusted=True, alpha=0.05)\n",
    "    plt.show()"
   ]
  },
  {
   "cell_type": "markdown",
   "id": "03acc200",
   "metadata": {},
   "source": [
    "Загрузка данных."
   ]
  },
  {
   "cell_type": "code",
   "execution_count": 5,
   "id": "49d93cbb",
   "metadata": {},
   "outputs": [],
   "source": [
    "pa = read_data('data/NYMEX.PA_200216_220216.csv', 'pa')\n",
    "sandp500 = read_data('data/SANDP-500_200216_220216.csv', 'sandp500')\n",
    "gold = read_data('data/comex.GC_200216_220216.csv', 'gold')\n",
    "brent = read_data('data/ICE.BRN_200216_220216.csv', 'brent')\n",
    "pl = read_data('data/NYMEX.PL_200216_220216.csv', 'pl')\n",
    "lead = read_data('data/LME.Lead_200216_220216.csv', 'lead')\n",
    "copper = read_data('data/LME.Copper_200216_220216.csv', 'copper')\n",
    "silver = read_data('data/comex.SI_200216_220216.csv', 'silver')"
   ]
  },
  {
   "cell_type": "markdown",
   "id": "4dcf71f3",
   "metadata": {},
   "source": [
    "Объединение и синхронизация по времени."
   ]
  },
  {
   "cell_type": "code",
   "execution_count": 6,
   "id": "cfb69120",
   "metadata": {},
   "outputs": [
    {
     "data": {
      "text/html": [
       "<div>\n",
       "<style scoped>\n",
       "    .dataframe tbody tr th:only-of-type {\n",
       "        vertical-align: middle;\n",
       "    }\n",
       "\n",
       "    .dataframe tbody tr th {\n",
       "        vertical-align: top;\n",
       "    }\n",
       "\n",
       "    .dataframe thead th {\n",
       "        text-align: right;\n",
       "    }\n",
       "</style>\n",
       "<table border=\"1\" class=\"dataframe\">\n",
       "  <thead>\n",
       "    <tr style=\"text-align: right;\">\n",
       "      <th></th>\n",
       "      <th>pa</th>\n",
       "      <th>sandp500</th>\n",
       "      <th>gold</th>\n",
       "      <th>brent</th>\n",
       "      <th>pl</th>\n",
       "      <th>lead</th>\n",
       "      <th>copper</th>\n",
       "      <th>silver</th>\n",
       "    </tr>\n",
       "    <tr>\n",
       "      <th>date</th>\n",
       "      <th></th>\n",
       "      <th></th>\n",
       "      <th></th>\n",
       "      <th></th>\n",
       "      <th></th>\n",
       "      <th></th>\n",
       "      <th></th>\n",
       "      <th></th>\n",
       "    </tr>\n",
       "  </thead>\n",
       "  <tbody>\n",
       "    <tr>\n",
       "      <th>2020-02-18</th>\n",
       "      <td>2540.0</td>\n",
       "      <td>3370.29</td>\n",
       "      <td>1603.7</td>\n",
       "      <td>57.68</td>\n",
       "      <td>995.6</td>\n",
       "      <td>1965.50</td>\n",
       "      <td>5754.084300</td>\n",
       "      <td>18.145</td>\n",
       "    </tr>\n",
       "    <tr>\n",
       "      <th>2020-02-19</th>\n",
       "      <td>2660.8</td>\n",
       "      <td>3386.15</td>\n",
       "      <td>1613.0</td>\n",
       "      <td>59.34</td>\n",
       "      <td>1011.3</td>\n",
       "      <td>1929.50</td>\n",
       "      <td>5767.312080</td>\n",
       "      <td>18.380</td>\n",
       "    </tr>\n",
       "    <tr>\n",
       "      <th>2020-02-20</th>\n",
       "      <td>2614.9</td>\n",
       "      <td>3373.23</td>\n",
       "      <td>1624.8</td>\n",
       "      <td>59.13</td>\n",
       "      <td>986.2</td>\n",
       "      <td>1933.50</td>\n",
       "      <td>5702.275495</td>\n",
       "      <td>18.395</td>\n",
       "    </tr>\n",
       "    <tr>\n",
       "      <th>2020-02-21</th>\n",
       "      <td>2614.0</td>\n",
       "      <td>3337.75</td>\n",
       "      <td>1645.9</td>\n",
       "      <td>58.36</td>\n",
       "      <td>976.9</td>\n",
       "      <td>1870.75</td>\n",
       "      <td>5734.242630</td>\n",
       "      <td>18.455</td>\n",
       "    </tr>\n",
       "    <tr>\n",
       "      <th>2020-02-24</th>\n",
       "      <td>2541.8</td>\n",
       "      <td>3225.89</td>\n",
       "      <td>1656.1</td>\n",
       "      <td>56.21</td>\n",
       "      <td>965.7</td>\n",
       "      <td>1874.50</td>\n",
       "      <td>5678.024565</td>\n",
       "      <td>18.580</td>\n",
       "    </tr>\n",
       "    <tr>\n",
       "      <th>...</th>\n",
       "      <td>...</td>\n",
       "      <td>...</td>\n",
       "      <td>...</td>\n",
       "      <td>...</td>\n",
       "      <td>...</td>\n",
       "      <td>...</td>\n",
       "      <td>...</td>\n",
       "      <td>...</td>\n",
       "    </tr>\n",
       "    <tr>\n",
       "      <th>2022-10-02</th>\n",
       "      <td>2246.5</td>\n",
       "      <td>4504.08</td>\n",
       "      <td>1827.3</td>\n",
       "      <td>91.45</td>\n",
       "      <td>1025.2</td>\n",
       "      <td>2290.65</td>\n",
       "      <td>10040.987335</td>\n",
       "      <td>23.190</td>\n",
       "    </tr>\n",
       "    <tr>\n",
       "      <th>2022-11-02</th>\n",
       "      <td>2313.0</td>\n",
       "      <td>4418.64</td>\n",
       "      <td>1860.6</td>\n",
       "      <td>95.10</td>\n",
       "      <td>1026.1</td>\n",
       "      <td>2286.55</td>\n",
       "      <td>9791.864145</td>\n",
       "      <td>23.600</td>\n",
       "    </tr>\n",
       "    <tr>\n",
       "      <th>2022-02-14</th>\n",
       "      <td>2359.0</td>\n",
       "      <td>4401.67</td>\n",
       "      <td>1873.0</td>\n",
       "      <td>95.85</td>\n",
       "      <td>1029.8</td>\n",
       "      <td>2311.50</td>\n",
       "      <td>9867.923880</td>\n",
       "      <td>23.900</td>\n",
       "    </tr>\n",
       "    <tr>\n",
       "      <th>2022-02-15</th>\n",
       "      <td>2255.0</td>\n",
       "      <td>4471.07</td>\n",
       "      <td>1854.5</td>\n",
       "      <td>93.50</td>\n",
       "      <td>1025.3</td>\n",
       "      <td>2320.00</td>\n",
       "      <td>9997.997050</td>\n",
       "      <td>23.390</td>\n",
       "    </tr>\n",
       "    <tr>\n",
       "      <th>2022-02-16</th>\n",
       "      <td>2290.5</td>\n",
       "      <td>4475.01</td>\n",
       "      <td>1871.7</td>\n",
       "      <td>92.10</td>\n",
       "      <td>1059.0</td>\n",
       "      <td>2349.00</td>\n",
       "      <td>9993.587790</td>\n",
       "      <td>23.595</td>\n",
       "    </tr>\n",
       "  </tbody>\n",
       "</table>\n",
       "<p>496 rows × 8 columns</p>\n",
       "</div>"
      ],
      "text/plain": [
       "                pa  sandp500    gold  brent      pl     lead        copper  \\\n",
       "date                                                                         \n",
       "2020-02-18  2540.0   3370.29  1603.7  57.68   995.6  1965.50   5754.084300   \n",
       "2020-02-19  2660.8   3386.15  1613.0  59.34  1011.3  1929.50   5767.312080   \n",
       "2020-02-20  2614.9   3373.23  1624.8  59.13   986.2  1933.50   5702.275495   \n",
       "2020-02-21  2614.0   3337.75  1645.9  58.36   976.9  1870.75   5734.242630   \n",
       "2020-02-24  2541.8   3225.89  1656.1  56.21   965.7  1874.50   5678.024565   \n",
       "...            ...       ...     ...    ...     ...      ...           ...   \n",
       "2022-10-02  2246.5   4504.08  1827.3  91.45  1025.2  2290.65  10040.987335   \n",
       "2022-11-02  2313.0   4418.64  1860.6  95.10  1026.1  2286.55   9791.864145   \n",
       "2022-02-14  2359.0   4401.67  1873.0  95.85  1029.8  2311.50   9867.923880   \n",
       "2022-02-15  2255.0   4471.07  1854.5  93.50  1025.3  2320.00   9997.997050   \n",
       "2022-02-16  2290.5   4475.01  1871.7  92.10  1059.0  2349.00   9993.587790   \n",
       "\n",
       "            silver  \n",
       "date                \n",
       "2020-02-18  18.145  \n",
       "2020-02-19  18.380  \n",
       "2020-02-20  18.395  \n",
       "2020-02-21  18.455  \n",
       "2020-02-24  18.580  \n",
       "...            ...  \n",
       "2022-10-02  23.190  \n",
       "2022-11-02  23.600  \n",
       "2022-02-14  23.900  \n",
       "2022-02-15  23.390  \n",
       "2022-02-16  23.595  \n",
       "\n",
       "[496 rows x 8 columns]"
      ]
     },
     "execution_count": 6,
     "metadata": {},
     "output_type": "execute_result"
    }
   ],
   "source": [
    "full = pa\n",
    "full = full.merge(sandp500, left_on='date', right_on='date')\n",
    "full = full.merge(gold, left_on='date', right_on='date')\n",
    "full = full.merge(brent, left_on='date', right_on='date')\n",
    "full = full.merge(pl, left_on='date', right_on='date')\n",
    "full = full.merge(lead, left_on='date', right_on='date')\n",
    "full = full.merge(copper, left_on='date', right_on='date')\n",
    "full = full.merge(silver, left_on='date', right_on='date')\n",
    "full.index = full['date']\n",
    "full.drop(['date'], axis=1, inplace=True)\n",
    "full"
   ]
  },
  {
   "cell_type": "markdown",
   "id": "86b8bc7a",
   "metadata": {},
   "source": [
    "Переход к логарифмическим доходностям."
   ]
  },
  {
   "cell_type": "code",
   "execution_count": 7,
   "id": "4250b781",
   "metadata": {},
   "outputs": [
    {
     "data": {
      "text/html": [
       "<div>\n",
       "<style scoped>\n",
       "    .dataframe tbody tr th:only-of-type {\n",
       "        vertical-align: middle;\n",
       "    }\n",
       "\n",
       "    .dataframe tbody tr th {\n",
       "        vertical-align: top;\n",
       "    }\n",
       "\n",
       "    .dataframe thead th {\n",
       "        text-align: right;\n",
       "    }\n",
       "</style>\n",
       "<table border=\"1\" class=\"dataframe\">\n",
       "  <thead>\n",
       "    <tr style=\"text-align: right;\">\n",
       "      <th></th>\n",
       "      <th>pa</th>\n",
       "      <th>sandp500</th>\n",
       "      <th>gold</th>\n",
       "      <th>brent</th>\n",
       "      <th>pl</th>\n",
       "      <th>lead</th>\n",
       "      <th>copper</th>\n",
       "      <th>silver</th>\n",
       "    </tr>\n",
       "    <tr>\n",
       "      <th>date</th>\n",
       "      <th></th>\n",
       "      <th></th>\n",
       "      <th></th>\n",
       "      <th></th>\n",
       "      <th></th>\n",
       "      <th></th>\n",
       "      <th></th>\n",
       "      <th></th>\n",
       "    </tr>\n",
       "  </thead>\n",
       "  <tbody>\n",
       "    <tr>\n",
       "      <th>2020-02-19</th>\n",
       "      <td>0.046463</td>\n",
       "      <td>0.004695</td>\n",
       "      <td>0.005782</td>\n",
       "      <td>0.028373</td>\n",
       "      <td>0.015646</td>\n",
       "      <td>-0.018486</td>\n",
       "      <td>0.002296</td>\n",
       "      <td>0.012868</td>\n",
       "    </tr>\n",
       "    <tr>\n",
       "      <th>2020-02-20</th>\n",
       "      <td>-0.017401</td>\n",
       "      <td>-0.003823</td>\n",
       "      <td>0.007289</td>\n",
       "      <td>-0.003545</td>\n",
       "      <td>-0.025133</td>\n",
       "      <td>0.002071</td>\n",
       "      <td>-0.011341</td>\n",
       "      <td>0.000816</td>\n",
       "    </tr>\n",
       "    <tr>\n",
       "      <th>2020-02-21</th>\n",
       "      <td>-0.000344</td>\n",
       "      <td>-0.010574</td>\n",
       "      <td>0.012903</td>\n",
       "      <td>-0.013108</td>\n",
       "      <td>-0.009475</td>\n",
       "      <td>-0.032992</td>\n",
       "      <td>0.005590</td>\n",
       "      <td>0.003256</td>\n",
       "    </tr>\n",
       "    <tr>\n",
       "      <th>2020-02-24</th>\n",
       "      <td>-0.028009</td>\n",
       "      <td>-0.034088</td>\n",
       "      <td>0.006178</td>\n",
       "      <td>-0.037536</td>\n",
       "      <td>-0.011531</td>\n",
       "      <td>0.002003</td>\n",
       "      <td>-0.009852</td>\n",
       "      <td>0.006750</td>\n",
       "    </tr>\n",
       "    <tr>\n",
       "      <th>2020-02-25</th>\n",
       "      <td>0.030493</td>\n",
       "      <td>-0.030748</td>\n",
       "      <td>-0.008611</td>\n",
       "      <td>-0.035123</td>\n",
       "      <td>-0.031451</td>\n",
       "      <td>0.020069</td>\n",
       "      <td>-0.003111</td>\n",
       "      <td>-0.030603</td>\n",
       "    </tr>\n",
       "    <tr>\n",
       "      <th>...</th>\n",
       "      <td>...</td>\n",
       "      <td>...</td>\n",
       "      <td>...</td>\n",
       "      <td>...</td>\n",
       "      <td>...</td>\n",
       "      <td>...</td>\n",
       "      <td>...</td>\n",
       "      <td>...</td>\n",
       "    </tr>\n",
       "    <tr>\n",
       "      <th>2022-10-02</th>\n",
       "      <td>-0.016117</td>\n",
       "      <td>-0.018282</td>\n",
       "      <td>-0.003278</td>\n",
       "      <td>-0.003820</td>\n",
       "      <td>-0.009417</td>\n",
       "      <td>0.016906</td>\n",
       "      <td>-0.013521</td>\n",
       "      <td>-0.004518</td>\n",
       "    </tr>\n",
       "    <tr>\n",
       "      <th>2022-11-02</th>\n",
       "      <td>0.029172</td>\n",
       "      <td>-0.019152</td>\n",
       "      <td>0.018060</td>\n",
       "      <td>0.039137</td>\n",
       "      <td>0.000877</td>\n",
       "      <td>-0.001791</td>\n",
       "      <td>-0.025124</td>\n",
       "      <td>0.017526</td>\n",
       "    </tr>\n",
       "    <tr>\n",
       "      <th>2022-02-14</th>\n",
       "      <td>0.019692</td>\n",
       "      <td>-0.003848</td>\n",
       "      <td>0.006642</td>\n",
       "      <td>0.007855</td>\n",
       "      <td>0.003599</td>\n",
       "      <td>0.010853</td>\n",
       "      <td>0.007738</td>\n",
       "      <td>0.012632</td>\n",
       "    </tr>\n",
       "    <tr>\n",
       "      <th>2022-02-15</th>\n",
       "      <td>-0.045088</td>\n",
       "      <td>0.015644</td>\n",
       "      <td>-0.009926</td>\n",
       "      <td>-0.024823</td>\n",
       "      <td>-0.004379</td>\n",
       "      <td>0.003671</td>\n",
       "      <td>0.013095</td>\n",
       "      <td>-0.021570</td>\n",
       "    </tr>\n",
       "    <tr>\n",
       "      <th>2022-02-16</th>\n",
       "      <td>0.015620</td>\n",
       "      <td>0.000881</td>\n",
       "      <td>0.009232</td>\n",
       "      <td>-0.015086</td>\n",
       "      <td>0.032340</td>\n",
       "      <td>0.012423</td>\n",
       "      <td>-0.000441</td>\n",
       "      <td>0.008726</td>\n",
       "    </tr>\n",
       "  </tbody>\n",
       "</table>\n",
       "<p>495 rows × 8 columns</p>\n",
       "</div>"
      ],
      "text/plain": [
       "                  pa  sandp500      gold     brent        pl      lead  \\\n",
       "date                                                                     \n",
       "2020-02-19  0.046463  0.004695  0.005782  0.028373  0.015646 -0.018486   \n",
       "2020-02-20 -0.017401 -0.003823  0.007289 -0.003545 -0.025133  0.002071   \n",
       "2020-02-21 -0.000344 -0.010574  0.012903 -0.013108 -0.009475 -0.032992   \n",
       "2020-02-24 -0.028009 -0.034088  0.006178 -0.037536 -0.011531  0.002003   \n",
       "2020-02-25  0.030493 -0.030748 -0.008611 -0.035123 -0.031451  0.020069   \n",
       "...              ...       ...       ...       ...       ...       ...   \n",
       "2022-10-02 -0.016117 -0.018282 -0.003278 -0.003820 -0.009417  0.016906   \n",
       "2022-11-02  0.029172 -0.019152  0.018060  0.039137  0.000877 -0.001791   \n",
       "2022-02-14  0.019692 -0.003848  0.006642  0.007855  0.003599  0.010853   \n",
       "2022-02-15 -0.045088  0.015644 -0.009926 -0.024823 -0.004379  0.003671   \n",
       "2022-02-16  0.015620  0.000881  0.009232 -0.015086  0.032340  0.012423   \n",
       "\n",
       "              copper    silver  \n",
       "date                            \n",
       "2020-02-19  0.002296  0.012868  \n",
       "2020-02-20 -0.011341  0.000816  \n",
       "2020-02-21  0.005590  0.003256  \n",
       "2020-02-24 -0.009852  0.006750  \n",
       "2020-02-25 -0.003111 -0.030603  \n",
       "...              ...       ...  \n",
       "2022-10-02 -0.013521 -0.004518  \n",
       "2022-11-02 -0.025124  0.017526  \n",
       "2022-02-14  0.007738  0.012632  \n",
       "2022-02-15  0.013095 -0.021570  \n",
       "2022-02-16 -0.000441  0.008726  \n",
       "\n",
       "[495 rows x 8 columns]"
      ]
     },
     "execution_count": 7,
     "metadata": {},
     "output_type": "execute_result"
    }
   ],
   "source": [
    "for col in full.columns:\n",
    "    full[col].iloc[1:] = np.log(\n",
    "            full[col].iloc[1:].values / full[col].iloc[:-1].values\n",
    "        )\n",
    "full = full.iloc[1:, :]\n",
    "full"
   ]
  },
  {
   "cell_type": "markdown",
   "id": "044d29ca",
   "metadata": {},
   "source": [
    "Обучение модели на всех предикторах."
   ]
  },
  {
   "cell_type": "code",
   "execution_count": 8,
   "id": "6ae984f7",
   "metadata": {},
   "outputs": [],
   "source": [
    "Y = full['pa']\n",
    "X = full[full.columns[1:]]\n",
    "X = sm.add_constant(X)\n",
    "model = sm.OLS(Y, X)\n",
    "res = model.fit()"
   ]
  },
  {
   "cell_type": "code",
   "execution_count": 9,
   "id": "4ba9360b",
   "metadata": {},
   "outputs": [
    {
     "name": "stdout",
     "output_type": "stream",
     "text": [
      "                            OLS Regression Results                            \n",
      "==============================================================================\n",
      "Dep. Variable:                     pa   R-squared:                       0.357\n",
      "Model:                            OLS   Adj. R-squared:                  0.348\n",
      "Method:                 Least Squares   F-statistic:                     38.63\n",
      "Date:                Thu, 17 Feb 2022   Prob (F-statistic):           4.39e-43\n",
      "Time:                        16:45:28   Log-Likelihood:                 1167.9\n",
      "No. Observations:                 495   AIC:                            -2320.\n",
      "Df Residuals:                     487   BIC:                            -2286.\n",
      "Df Model:                           7                                         \n",
      "Covariance Type:            nonrobust                                         \n",
      "==============================================================================\n",
      "                 coef    std err          t      P>|t|      [0.025      0.975]\n",
      "------------------------------------------------------------------------------\n",
      "const         -0.0004      0.001     -0.400      0.689      -0.002       0.002\n",
      "sandp500       0.0790      0.077      1.029      0.304      -0.072       0.230\n",
      "gold          -0.1334      0.149     -0.898      0.370      -0.425       0.159\n",
      "brent          0.0863      0.034      2.513      0.012       0.019       0.154\n",
      "pl             0.5700      0.067      8.533      0.000       0.439       0.701\n",
      "lead           0.0565      0.071      0.798      0.425      -0.082       0.195\n",
      "copper        -0.0503      0.073     -0.694      0.488      -0.193       0.092\n",
      "silver         0.1630      0.076      2.145      0.032       0.014       0.312\n",
      "==============================================================================\n",
      "Omnibus:                      111.535   Durbin-Watson:                   1.687\n",
      "Prob(Omnibus):                  0.000   Jarque-Bera (JB):             1730.891\n",
      "Skew:                           0.485   Prob(JB):                         0.00\n",
      "Kurtosis:                      12.109   Cond. No.                         153.\n",
      "==============================================================================\n",
      "\n",
      "Notes:\n",
      "[1] Standard Errors assume that the covariance matrix of the errors is correctly specified.\n"
     ]
    }
   ],
   "source": [
    "print(res.summary())"
   ]
  },
  {
   "cell_type": "markdown",
   "id": "9e3fd07f",
   "metadata": {},
   "source": [
    "Предикторы brent, pl, silver значимы. Модель не вырождена. Выводы на основании p-value T-теста и F-теста."
   ]
  },
  {
   "cell_type": "markdown",
   "id": "f5621531",
   "metadata": {},
   "source": [
    "Исследование автокорреляции."
   ]
  },
  {
   "cell_type": "code",
   "execution_count": 10,
   "id": "5e3f3efd",
   "metadata": {},
   "outputs": [
    {
     "data": {
      "image/png": "[encoded data removed]",
      "text/plain": [
       "<Figure size 1008x504 with 1 Axes>"
      ]
     },
     "metadata": {
      "needs_background": "light"
     },
     "output_type": "display_data"
    }
   ],
   "source": [
    "autocorr(res.resid, lags=50)"
   ]
  },
  {
   "cell_type": "markdown",
   "id": "5dc9e107",
   "metadata": {},
   "source": [
    "Наблюдается небольшой выход за границы доверительного интервала. Тест Дарбина — Уотсона дает 1.687, что достаточно близко к 2."
   ]
  },
  {
   "cell_type": "code",
   "execution_count": 11,
   "id": "ad31d77a",
   "metadata": {},
   "outputs": [
    {
     "data": {
      "image/png": "[encoded data removed]",
      "text/plain": [
       "<Figure size 432x288 with 1 Axes>"
      ]
     },
     "metadata": {
      "needs_background": "light"
     },
     "output_type": "display_data"
    }
   ],
   "source": [
    "fig = sm.qqplot(res.resid, stats.norm, fit=True, line='45')"
   ]
  },
  {
   "cell_type": "code",
   "execution_count": 12,
   "id": "bb735c9c",
   "metadata": {},
   "outputs": [
    {
     "data": {
      "image/png": "[encoded data removed]",
      "text/plain": [
       "<Figure size 432x288 with 1 Axes>"
      ]
     },
     "metadata": {
      "needs_background": "light"
     },
     "output_type": "display_data"
    }
   ],
   "source": [
    "fig = plt.hist(res.resid, bins=20)"
   ]
  },
  {
   "cell_type": "code",
   "execution_count": 13,
   "id": "e8a85499",
   "metadata": {},
   "outputs": [
    {
     "data": {
      "text/plain": [
       "7.019925310806311e-15"
      ]
     },
     "execution_count": 13,
     "metadata": {},
     "output_type": "execute_result"
    }
   ],
   "source": [
    "stats.shapiro(res.resid).pvalue"
   ]
  },
  {
   "cell_type": "markdown",
   "id": "1ba0732a",
   "metadata": {},
   "source": [
    "Судя по тесту распределение остатков близко к нормальному."
   ]
  },
  {
   "cell_type": "markdown",
   "id": "806b1ecd",
   "metadata": {},
   "source": [
    "Модель на значимых предикторах."
   ]
  },
  {
   "cell_type": "code",
   "execution_count": 14,
   "id": "47730f08",
   "metadata": {},
   "outputs": [],
   "source": [
    "X = X[['const', 'brent', 'pl', 'silver']]\n",
    "model = sm.OLS(Y, X)\n",
    "res = model.fit()"
   ]
  },
  {
   "cell_type": "code",
   "execution_count": 15,
   "id": "ce45221a",
   "metadata": {},
   "outputs": [
    {
     "name": "stdout",
     "output_type": "stream",
     "text": [
      "                            OLS Regression Results                            \n",
      "==============================================================================\n",
      "Dep. Variable:                     pa   R-squared:                       0.353\n",
      "Model:                            OLS   Adj. R-squared:                  0.349\n",
      "Method:                 Least Squares   F-statistic:                     89.37\n",
      "Date:                Thu, 17 Feb 2022   Prob (F-statistic):           3.69e-46\n",
      "Time:                        16:45:28   Log-Likelihood:                 1166.5\n",
      "No. Observations:                 495   AIC:                            -2325.\n",
      "Df Residuals:                     491   BIC:                            -2308.\n",
      "Df Model:                           3                                         \n",
      "Covariance Type:            nonrobust                                         \n",
      "==============================================================================\n",
      "                 coef    std err          t      P>|t|      [0.025      0.975]\n",
      "------------------------------------------------------------------------------\n",
      "const         -0.0004      0.001     -0.425      0.671      -0.002       0.002\n",
      "brent          0.1041      0.030      3.417      0.001       0.044       0.164\n",
      "pl             0.5768      0.062      9.273      0.000       0.455       0.699\n",
      "silver         0.1146      0.057      1.997      0.046       0.002       0.227\n",
      "==============================================================================\n",
      "Omnibus:                      120.688   Durbin-Watson:                   1.675\n",
      "Prob(Omnibus):                  0.000   Jarque-Bera (JB):             2074.224\n",
      "Skew:                           0.544   Prob(JB):                         0.00\n",
      "Kurtosis:                      12.969   Cond. No.                         75.0\n",
      "==============================================================================\n",
      "\n",
      "Notes:\n",
      "[1] Standard Errors assume that the covariance matrix of the errors is correctly specified.\n"
     ]
    }
   ],
   "source": [
    "print(res.summary())"
   ]
  },
  {
   "cell_type": "markdown",
   "id": "f08c5421",
   "metadata": {},
   "source": [
    "Исследование автокорреляции и распределения."
   ]
  },
  {
   "cell_type": "code",
   "execution_count": 16,
   "id": "e0e30588",
   "metadata": {},
   "outputs": [
    {
     "data": {
      "image/png": "[encoded data removed]",
      "text/plain": [
       "<Figure size 1008x504 with 1 Axes>"
      ]
     },
     "metadata": {
      "needs_background": "light"
     },
     "output_type": "display_data"
    }
   ],
   "source": [
    "autocorr(res.resid, lags=50)"
   ]
  },
  {
   "cell_type": "code",
   "execution_count": 17,
   "id": "1e0c944e",
   "metadata": {},
   "outputs": [
    {
     "data": {
      "image/png": "[encoded data removed]",
      "text/plain": [
       "<Figure size 432x288 with 1 Axes>"
      ]
     },
     "metadata": {
      "needs_background": "light"
     },
     "output_type": "display_data"
    }
   ],
   "source": [
    "fig = sm.qqplot(res.resid, stats.norm, fit=True, line='45')"
   ]
  },
  {
   "cell_type": "code",
   "execution_count": 18,
   "id": "b3611f57",
   "metadata": {},
   "outputs": [
    {
     "data": {
      "image/png": "[encoded data removed]",
      "text/plain": [
       "<Figure size 432x288 with 1 Axes>"
      ]
     },
     "metadata": {
      "needs_background": "light"
     },
     "output_type": "display_data"
    }
   ],
   "source": [
    "fig = plt.hist(res.resid, bins=20)"
   ]
  },
  {
   "cell_type": "code",
   "execution_count": 19,
   "id": "01339d54",
   "metadata": {},
   "outputs": [
    {
     "data": {
      "text/plain": [
       "3.2522556340581132e-15"
      ]
     },
     "execution_count": 19,
     "metadata": {},
     "output_type": "execute_result"
    }
   ],
   "source": [
    "stats.shapiro(res.resid).pvalue"
   ]
  },
  {
   "cell_type": "markdown",
   "id": "9d3ae543",
   "metadata": {},
   "source": [
    "Результаты такие же как и у предыдущей модели."
   ]
  }
 ],
 "metadata": {
  "kernelspec": {
   "display_name": "Python 3",
   "language": "python",
   "name": "python3"
  },
  "language_info": {
   "codemirror_mode": {
    "name": "ipython",
    "version": 3
   },
   "file_extension": ".py",
   "mimetype": "text/x-python",
   "name": "python",
   "nbconvert_exporter": "python",
   "pygments_lexer": "ipython3",
   "version": "3.8.8"
  }
 },
 "nbformat": 4,
 "nbformat_minor": 5
}
